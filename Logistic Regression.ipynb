{
 "cells": [
  {
   "cell_type": "code",
   "execution_count": null,
   "id": "95fd158f",
   "metadata": {},
   "outputs": [],
   "source": [
    "library(\"gridExtra\")\n",
    "library(\"DataExplorer\")\n",
    "library(ggplot2)\n",
    "library(tidyverse)"
   ]
  },
  {
   "cell_type": "markdown",
   "id": "92ed018d",
   "metadata": {},
   "source": [
    "### EDA"
   ]
  },
  {
   "cell_type": "code",
   "execution_count": null,
   "id": "9d9837b1",
   "metadata": {},
   "outputs": [],
   "source": [
    "# Numerical - Categorical\n",
    "p1 <- ggplot(data, aes(x = Administrative, fill = Revenue)) + \n",
    "  geom_density(alpha = 0.3)\n",
    "\n",
    "p2 <- ggplot(data, aes(x = Administrative_Duration, fill = Revenue)) +\n",
    "  geom_density(alpha = 0.3)\n",
    "\n",
    "p3 <- ggplot(data, aes(x = Informational, fill = Revenue)) +\n",
    "  geom_density(alpha = 0.3)\n",
    "\n",
    "p4 <- ggplot(data, aes(x = Informational_Duration, fill = Revenue)) +\n",
    "  geom_density(alpha = 0.3)\n",
    "\n",
    "p5 <- ggplot(data, aes(x = ProductRelated, fill = Revenue)) +\n",
    "  geom_density(alpha = 0.3) \n",
    "\n",
    "p6 <- ggplot(data, aes(x = ProductRelated_Duration, fill = Revenue)) +\n",
    "  geom_density(alpha = 0.3)\n",
    "\n",
    "p7 <- ggplot(data, aes(x = BounceRates, fill = Revenue)) +\n",
    "  geom_density(alpha = 0.3)\n",
    "\n",
    "p8 <- ggplot(data, aes(x = ExitRates, fill = Revenue)) +\n",
    "  geom_density(alpha = 0.3)\n",
    "\n",
    "p9 <- ggplot(data, aes(x = PageValues, fill = Revenue)) +\n",
    "  geom_density(alpha = 0.3)\n",
    "\n",
    "p10 <- ggplot(data, aes(x = SpecialDay, fill = Revenue)) +\n",
    "  geom_density(alpha = 0.3)\n",
    "\n",
    "grid.arrange(p1,p2,p3,p4,p5,p6, nrow = 3, ncol = 2, top = \"Conditional distributions given Revenue\")\n",
    "grid.arrange(p7,p8,p9,p10, nrow = 2, ncol = 2)"
   ]
  },
  {
   "cell_type": "code",
   "execution_count": null,
   "id": "cf48c845",
   "metadata": {},
   "outputs": [],
   "source": [
    "# Categorical - Categorical\n",
    "p11 <- ggplot(data, aes(x = Month, fill = Revenue)) + \n",
    "  geom_bar(position = \"fill\") +\n",
    "  scale_fill_brewer(palette = \"Pastel2\") +\n",
    "  ylab(\"proportion\") +\n",
    "  theme_minimal()\n",
    "\n",
    "p12 <- ggplot(data, aes(x = factor(OperatingSystems), fill = Revenue)) + \n",
    "  geom_bar(position = \"fill\") +\n",
    "  scale_fill_brewer(palette = \"Pastel2\") +\n",
    "  xlab(\"Operating Systems\") +\n",
    "  ylab(\"proportion\") +\n",
    "  theme_minimal()\n",
    "\n",
    "p13 <- ggplot(data, aes(x = factor(Browser), fill = Revenue)) + \n",
    "  geom_bar(position = \"fill\") +\n",
    "  scale_fill_brewer(palette = \"Pastel2\") +\n",
    "  xlab(\"Browser\") +\n",
    "  ylab(\"proportion\") +\n",
    "  theme_minimal()\n",
    "\n",
    "p14 <- ggplot(data, aes(x = factor(Region), fill = Revenue)) + \n",
    "  geom_bar(position = \"fill\") +\n",
    "  scale_fill_brewer(palette = \"Pastel2\") +\n",
    "  xlab(\"Region\") +\n",
    "  ylab(\"proportion\") +\n",
    "  theme_minimal()\n",
    "\n",
    "p15 <- ggplot(data, aes(x = factor(TrafficType), fill = Revenue)) + \n",
    "  geom_bar(position = \"fill\") +\n",
    "  scale_fill_brewer(palette = \"Pastel2\") +\n",
    "  xlab(\"Traffic Type\") +\n",
    "  ylab(\"proportion\") +\n",
    "  theme_minimal()\n",
    "\n",
    "p16 <- ggplot(data, aes(x = VisitorType, fill = Revenue)) + \n",
    "  geom_bar(position = \"fill\") +\n",
    "  scale_fill_brewer(palette = \"Pastel2\") +\n",
    "  xlab(\"Visitor Type\") +\n",
    "  ylab(\"proportion\") +\n",
    "  theme_minimal()\n",
    "\n",
    "p17 <- ggplot(data, aes(x = Weekend, fill = Revenue)) + \n",
    "  geom_bar(position = \"fill\") +\n",
    "  scale_fill_brewer(palette = \"Pastel2\") +\n",
    "  ylab(\"proportion\") +\n",
    "  theme_minimal()\n",
    "\n",
    "grid.arrange(p11,p12,p13,p14,p15,p16,p17, nrow = 4, ncol = 2, top = \"Conditional distributions given Revenue\")"
   ]
  },
  {
   "cell_type": "markdown",
   "id": "3df9c47e",
   "metadata": {},
   "source": [
    "### Logistic Regression"
   ]
  },
  {
   "cell_type": "code",
   "execution_count": null,
   "id": "d3a89dd4",
   "metadata": {},
   "outputs": [],
   "source": [
    "## Performing Variable Selection:\n",
    "# Stepwise Logistic Regression:\n",
    "logR <- step(glm(Revenue~., data = train, family = binomial), \n",
    "             direction = \"both\", trace=0)\n",
    "\n",
    "## Prediction\n",
    "summary(logR)"
   ]
  },
  {
   "cell_type": "code",
   "execution_count": null,
   "id": "748eb30b",
   "metadata": {},
   "outputs": [],
   "source": [
    "#load the car library\n",
    "library(car)\n",
    "\n",
    "#calculate the VIF for each predictor variable in the model\n",
    "vif(logR)"
   ]
  },
  {
   "cell_type": "code",
   "execution_count": null,
   "id": "caaede25",
   "metadata": {},
   "outputs": [],
   "source": [
    "glm.probs = predict(logR,type = \"response\")\n",
    "glm.pred = rep(\"FALSE\", dim(train)[1])\n",
    "glm.pred[glm.probs > 0.5] = \"TRUE\"\n",
    "conf_matrix_train = addmargins(table(glm.pred, train$Revenue, dnn = c(\"Predicted Class\",\"True Class\")))\n",
    "conf_matrix_train\n",
    "\n",
    "misc_logR_train = round((conf_matrix_train[1,2] + conf_matrix_train[2,1])/conf_matrix_train[3,3] * 100, 2)\n",
    "misc_logR_train # Misclassification error on training set (%)\n",
    "\n",
    "tpr = round(conf_matrix_train[2,2]/conf_matrix_train[3,2]*100, 2) # TPR (%)\n",
    "tpr\n",
    "\n",
    "fpr = round(conf_matrix_train[2,1]/conf_matrix_train[3,1]*100, 2) # FPR (%)\n",
    "fpr\n",
    "\n",
    "round((100 - tpr), 2) # false negative error (%)"
   ]
  },
  {
   "cell_type": "code",
   "execution_count": null,
   "id": "1474fdfa",
   "metadata": {},
   "outputs": [],
   "source": [
    "library(gridExtra)      # arrange multiple grid-based plots on a page\n",
    "library(ROCR)           # ROC curv"
   ]
  },
  {
   "cell_type": "code",
   "execution_count": null,
   "id": "7339035c",
   "metadata": {},
   "outputs": [],
   "source": [
    "# ROC Curve\n",
    "logR_performance = performance(prediction(glm.probs, train$Revenue), measure = \"tpr\", x.measure = \"fpr\")\n",
    "plot(logR_performance, colorize = TRUE, lwd = 2, print.cutoffs.at = c(0.2,0.3,0.4,0.5,0.8))\n",
    "abline(a = 0, b = 1, lty = 2)\n",
    "logR_auc = performance(prediction(glm.probs, train$Revenue), measure = \"auc\", x.measure = \"fpr\")@y.values[[1]]\n",
    "logR_auc"
   ]
  },
  {
   "cell_type": "code",
   "execution_count": null,
   "id": "85ecb504",
   "metadata": {},
   "outputs": [],
   "source": [
    "# Test data\n",
    "sum(complete.cases(test))\n",
    "sum(!complete.cases(test))\n",
    "\n",
    "glm.probs.val = predict(logR, test, type = \"response\")\n",
    "glm.pred.val = rep(\"FALSE\", dim(test)[1])\n",
    "glm.pred.val[glm.probs.val > 0.5] = \"TRUE\"\n",
    "conf_matrix_val = addmargins(table(glm.pred.val, test$Revenue, dnn = c(\"Predicted Class\",\"True Class\")))\n",
    "conf_matrix_val\n",
    "\n",
    "misc_logR_val = round((conf_matrix_val[1,2] + conf_matrix_val[2,1])/conf_matrix_val[3,3] * 100, 2)\n",
    "misc_logR_val"
   ]
  }
 ],
 "metadata": {
  "kernelspec": {
   "display_name": "R",
   "language": "R",
   "name": "ir"
  },
  "language_info": {
   "codemirror_mode": "r",
   "file_extension": ".r",
   "mimetype": "text/x-r-source",
   "name": "R",
   "pygments_lexer": "r",
   "version": "4.1.1"
  }
 },
 "nbformat": 4,
 "nbformat_minor": 5
}
